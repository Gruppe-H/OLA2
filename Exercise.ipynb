{
 "cells": [
  {
   "cell_type": "markdown",
   "id": "715db66e-4998-4b04-b797-20cae798a785",
   "metadata": {},
   "source": [
    "# OLA 2\n",
    "## By group H (Caroline, Micheal og Maria)"
   ]
  },
  {
   "cell_type": "markdown",
   "id": "bf41da6e-60ff-4e3f-9c79-5bdba22a9425",
   "metadata": {},
   "source": [
    "## Task\n",
    "\n",
    "We have decided to work on Danish violence from the years 2018-2022 to predict whether there is an increase or decrease in violent crimes in 2023.\n",
    "\n",
    "We are considering the cities in which the crime is commited and the gender/sexes and ages of the victims. \n",
    "\n",
    "Our end goal is to create a model that can predict where violent crime will most likely be commited and who the victims most likely are, so we can hopefully prevent it by creating self-defense classes to potential victims. "
   ]
  },
  {
   "cell_type": "code",
   "execution_count": 1,
   "id": "872aa107-48e2-4e4d-a958-8b697a210b8b",
   "metadata": {},
   "outputs": [],
   "source": [
    "import numpy as np\n",
    "import pandas as pd\n",
    "import os\n",
    "%matplotlib inline\n",
    "import matplotlib as mpl\n",
    "import matplotlib.pyplot as plt\n",
    "mpl.rc('axes', labelsize=14)\n",
    "mpl.rc('xtick', labelsize=12)\n",
    "mpl.rc('ytick', labelsize=12)"
   ]
  },
  {
   "cell_type": "markdown",
   "id": "20c3afde-059e-4c43-96a5-6c40d0897b02",
   "metadata": {},
   "source": [
    "### Selecting and preparing a dataset\n",
    "We have collected two datasets from Danmarks Statistik ... TODO"
   ]
  },
  {
   "cell_type": "code",
   "execution_count": 2,
   "id": "57f5d60e-c0ed-45d2-ae1f-d658a6cc0681",
   "metadata": {},
   "outputs": [],
   "source": [
    "crime_per_city = pd.read_csv('datasets/violent_crimes_per_city_DK.csv', sep=';', encoding='ISO-8859-1')\n",
    "crime_victims = pd.read_csv('datasets/victims_of_violent_crime_DK.csv', sep=';')"
   ]
  },
  {
   "cell_type": "code",
   "execution_count": 3,
   "id": "5447168b-28b5-4ea3-8321-bdab0abb077a",
   "metadata": {},
   "outputs": [
    {
     "data": {
      "text/html": [
       "<div>\n",
       "<style scoped>\n",
       "    .dataframe tbody tr th:only-of-type {\n",
       "        vertical-align: middle;\n",
       "    }\n",
       "\n",
       "    .dataframe tbody tr th {\n",
       "        vertical-align: top;\n",
       "    }\n",
       "\n",
       "    .dataframe thead th {\n",
       "        text-align: right;\n",
       "    }\n",
       "</style>\n",
       "<table border=\"1\" class=\"dataframe\">\n",
       "  <thead>\n",
       "    <tr style=\"text-align: right;\">\n",
       "      <th></th>\n",
       "      <th>Type of Criminal Offence</th>\n",
       "      <th>City</th>\n",
       "      <th>2018Q1</th>\n",
       "      <th>2018Q2</th>\n",
       "      <th>2018Q3</th>\n",
       "      <th>2018Q4</th>\n",
       "      <th>2019Q1</th>\n",
       "      <th>2019Q2</th>\n",
       "      <th>2019Q3</th>\n",
       "      <th>2019Q4</th>\n",
       "      <th>...</th>\n",
       "      <th>2020Q3</th>\n",
       "      <th>2020Q4</th>\n",
       "      <th>2021Q1</th>\n",
       "      <th>2021Q2</th>\n",
       "      <th>2021Q3</th>\n",
       "      <th>2021Q4</th>\n",
       "      <th>2022Q1</th>\n",
       "      <th>2022Q2</th>\n",
       "      <th>2022Q3</th>\n",
       "      <th>2022Q4</th>\n",
       "    </tr>\n",
       "  </thead>\n",
       "  <tbody>\n",
       "  </tbody>\n",
       "</table>\n",
       "<p>0 rows × 22 columns</p>\n",
       "</div>"
      ],
      "text/plain": [
       "Empty DataFrame\n",
       "Columns: [Type of Criminal Offence, City, 2018Q1, 2018Q2, 2018Q3, 2018Q4, 2019Q1, 2019Q2, 2019Q3, 2019Q4, 2020Q1, 2020Q2, 2020Q3, 2020Q4, 2021Q1, 2021Q2, 2021Q3, 2021Q4, 2022Q1, 2022Q2, 2022Q3, 2022Q4]\n",
       "Index: []\n",
       "\n",
       "[0 rows x 22 columns]"
      ]
     },
     "execution_count": 3,
     "metadata": {},
     "output_type": "execute_result"
    }
   ],
   "source": [
    "crime_per_city.head(0)"
   ]
  },
  {
   "cell_type": "code",
   "execution_count": 6,
   "id": "5abdbbdf-4ffd-4888-b3a0-719d9f116147",
   "metadata": {},
   "outputs": [
    {
     "data": {
      "text/html": [
       "<div>\n",
       "<style scoped>\n",
       "    .dataframe tbody tr th:only-of-type {\n",
       "        vertical-align: middle;\n",
       "    }\n",
       "\n",
       "    .dataframe tbody tr th {\n",
       "        vertical-align: top;\n",
       "    }\n",
       "\n",
       "    .dataframe thead th {\n",
       "        text-align: right;\n",
       "    }\n",
       "</style>\n",
       "<table border=\"1\" class=\"dataframe\">\n",
       "  <thead>\n",
       "    <tr style=\"text-align: right;\">\n",
       "      <th></th>\n",
       "      <th>Victim of which type of Criminal Offence</th>\n",
       "      <th>Sex</th>\n",
       "      <th>Age Group</th>\n",
       "      <th>2018</th>\n",
       "      <th>2019</th>\n",
       "      <th>2020</th>\n",
       "      <th>2021</th>\n",
       "      <th>2022</th>\n",
       "    </tr>\n",
       "  </thead>\n",
       "  <tbody>\n",
       "  </tbody>\n",
       "</table>\n",
       "</div>"
      ],
      "text/plain": [
       "Empty DataFrame\n",
       "Columns: [Victim of which type of Criminal Offence, Sex, Age Group, 2018, 2019, 2020, 2021, 2022]\n",
       "Index: []"
      ]
     },
     "execution_count": 6,
     "metadata": {},
     "output_type": "execute_result"
    }
   ],
   "source": [
    "crime_victims.head(0)"
   ]
  },
  {
   "cell_type": "markdown",
   "id": "456d5d88-6caf-436a-a990-a3ed6e73309a",
   "metadata": {},
   "source": [
    "TODO: change from quarterly year data to yearly:"
   ]
  },
  {
   "cell_type": "code",
   "execution_count": 7,
   "id": "45e826db-8ded-468a-af4c-2175d0328f9a",
   "metadata": {},
   "outputs": [],
   "source": [
    "crime_per_city['2018'] = crime_per_city[['2018Q1', '2018Q2', '2018Q3', '2018Q4']].sum(axis=1)\n",
    "crime_per_city['2019'] = crime_per_city[['2019Q1', '2019Q2', '2019Q3', '2019Q4']].sum(axis=1)\n",
    "crime_per_city['2020'] = crime_per_city[['2020Q1', '2020Q2', '2020Q3', '2020Q4']].sum(axis=1)\n",
    "crime_per_city['2021'] = crime_per_city[['2021Q1', '2021Q2', '2021Q3', '2021Q4']].sum(axis=1)\n",
    "crime_per_city['2022'] = crime_per_city[['2022Q1', '2022Q2', '2022Q3', '2022Q4']].sum(axis=1)\n",
    "\n",
    "crime_per_city = crime_per_city.drop(columns=['2018Q1', '2018Q2', '2018Q3', '2018Q4',\n",
    "                      '2019Q1', '2019Q2', '2019Q3', '2019Q4',\n",
    "                      '2020Q1', '2020Q2', '2020Q3', '2020Q4',\n",
    "                      '2021Q1', '2021Q2', '2021Q3', '2021Q4',\n",
    "                      '2022Q1', '2022Q2', '2022Q3', '2022Q4'])"
   ]
  },
  {
   "cell_type": "code",
   "execution_count": 10,
   "id": "be8518a4-5919-4531-86c7-61ebfaeecc99",
   "metadata": {},
   "outputs": [
    {
     "data": {
      "text/html": [
       "<div>\n",
       "<style scoped>\n",
       "    .dataframe tbody tr th:only-of-type {\n",
       "        vertical-align: middle;\n",
       "    }\n",
       "\n",
       "    .dataframe tbody tr th {\n",
       "        vertical-align: top;\n",
       "    }\n",
       "\n",
       "    .dataframe thead th {\n",
       "        text-align: right;\n",
       "    }\n",
       "</style>\n",
       "<table border=\"1\" class=\"dataframe\">\n",
       "  <thead>\n",
       "    <tr style=\"text-align: right;\">\n",
       "      <th></th>\n",
       "      <th>Type of Criminal Offence</th>\n",
       "      <th>City</th>\n",
       "      <th>2018</th>\n",
       "      <th>2019</th>\n",
       "      <th>2020</th>\n",
       "      <th>2021</th>\n",
       "      <th>2022</th>\n",
       "    </tr>\n",
       "  </thead>\n",
       "  <tbody>\n",
       "  </tbody>\n",
       "</table>\n",
       "</div>"
      ],
      "text/plain": [
       "Empty DataFrame\n",
       "Columns: [Type of Criminal Offence, City, 2018, 2019, 2020, 2021, 2022]\n",
       "Index: []"
      ]
     },
     "execution_count": 10,
     "metadata": {},
     "output_type": "execute_result"
    }
   ],
   "source": [
    "crime_per_city.head(0)"
   ]
  },
  {
   "cell_type": "code",
   "execution_count": null,
   "id": "83697a40-ea4b-4974-a0e5-dab5790cd987",
   "metadata": {},
   "outputs": [],
   "source": []
  }
 ],
 "metadata": {
  "kernelspec": {
   "display_name": "Python 3 (ipykernel)",
   "language": "python",
   "name": "python3"
  },
  "language_info": {
   "codemirror_mode": {
    "name": "ipython",
    "version": 3
   },
   "file_extension": ".py",
   "mimetype": "text/x-python",
   "name": "python",
   "nbconvert_exporter": "python",
   "pygments_lexer": "ipython3",
   "version": "3.12.2"
  }
 },
 "nbformat": 4,
 "nbformat_minor": 5
}
